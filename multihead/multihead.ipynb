{
 "cells": [
  {
   "cell_type": "markdown",
   "metadata": {},
   "source": [
    "## Setup"
   ]
  },
  {
   "cell_type": "code",
   "execution_count": 1,
   "metadata": {},
   "outputs": [],
   "source": [
    "# Imports\n",
    "import math, random, torch\n",
    "import numpy as np\n",
    "import seaborn as sns\n",
    "import torch.nn as nn\n",
    "import torch.nn.functional as F\n",
    "from torchmetrics import ConfusionMatrix\n",
    "from torch.utils.data import TensorDataset, DataLoader\n",
    "\n",
    "# Custom Import\n",
    "from multihead_attention import MultiheadAttention"
   ]
  },
  {
   "cell_type": "code",
   "execution_count": 2,
   "metadata": {},
   "outputs": [],
   "source": [
    "BATCH_SIZE = 8\n",
    "SEQ_LEN = 16\n",
    "NHEAD = 8\n",
    "EMBED_SIZE = 512\n",
    "DEVICE = \"cuda\"\n",
    "model = MultiheadAttention(EMBED_SIZE, NHEAD, device=DEVICE).to(DEVICE)"
   ]
  },
  {
   "cell_type": "markdown",
   "metadata": {},
   "source": [
    "## Run Model (Forward Pass)"
   ]
  },
  {
   "cell_type": "code",
   "execution_count": 3,
   "metadata": {},
   "outputs": [
    {
     "name": "stdout",
     "output_type": "stream",
     "text": [
      "Attention Output: torch.Size([8, 16, 512])\n",
      "Attention Weights: torch.Size([64, 16, 16])\n"
     ]
    }
   ],
   "source": [
    "X = torch.rand(BATCH_SIZE, SEQ_LEN, EMBED_SIZE).to(DEVICE) # (Batch Size, Seq. Len., Embed Size)\n",
    "Q, K, V = X, X, X # Queries, Keys and Values are the same for non-translation\n",
    "attn_output, attn_output_weights = model(Q, K, V)\n",
    "print(f\"Attention Output: {attn_output.shape}\")\n",
    "print(f\"Attention Weights: {attn_output_weights.shape}\")"
   ]
  },
  {
   "cell_type": "markdown",
   "metadata": {},
   "source": [
    "## Attention Weights"
   ]
  },
  {
   "cell_type": "code",
   "execution_count": 4,
   "metadata": {},
   "outputs": [
    {
     "data": {
      "text/plain": [
       "<Axes: >"
      ]
     },
     "execution_count": 4,
     "metadata": {},
     "output_type": "execute_result"
    },
    {
     "data": {
      "image/png": "[encoded data removed]",
      "text/plain": [
       "<Figure size 640x480 with 2 Axes>"
      ]
     },
     "metadata": {},
     "output_type": "display_data"
    }
   ],
   "source": [
    "sns.heatmap(torch.mean(attn_output_weights, dim=0).detach().cpu().numpy())"
   ]
  },
  {
   "cell_type": "markdown",
   "metadata": {},
   "source": [
    "## Mask"
   ]
  },
  {
   "cell_type": "code",
   "execution_count": 5,
   "metadata": {},
   "outputs": [
    {
     "name": "stdout",
     "output_type": "stream",
     "text": [
      "torch.Size([8, 16, 16])\n",
      "torch.Size([64, 16, 16])\n"
     ]
    }
   ],
   "source": [
    "# Get a standard mask from class function\n",
    "mask = model.get_mask(X).to(DEVICE)\n",
    "print(mask.shape)\n",
    "mask = mask.repeat(model.nheads, 1, 1)\n",
    "print(mask.shape)"
   ]
  },
  {
   "cell_type": "markdown",
   "metadata": {},
   "source": [
    "## Creating Attention Inputs"
   ]
  },
  {
   "cell_type": "code",
   "execution_count": 6,
   "metadata": {},
   "outputs": [
    {
     "name": "stdout",
     "output_type": "stream",
     "text": [
      "torch.Size([8, 16, 512])\n",
      "torch.Size([8, 16, 512])\n",
      "torch.Size([64, 16, 64])\n"
     ]
    }
   ],
   "source": [
    "# Create Q, K, V matrices and reshape\n",
    "bsz, tgt_len, _ = X.shape\n",
    "x = model.linear_q(X)\n",
    "print(x.shape)\n",
    "x = model.activation(X)\n",
    "print(x.shape)\n",
    "x = x.view(tgt_len, bsz * model.nheads, model.head_dim).transpose(0, 1)\n",
    "print(x.shape)"
   ]
  },
  {
   "cell_type": "markdown",
   "metadata": {},
   "source": [
    "## The Attention Equation"
   ]
  },
  {
   "cell_type": "code",
   "execution_count": 7,
   "metadata": {},
   "outputs": [
    {
     "name": "stdout",
     "output_type": "stream",
     "text": [
      "torch.Size([64, 16, 64])\n",
      "torch.Size([128, 512])\n"
     ]
    }
   ],
   "source": [
    "# Apply attention - Part 1\n",
    "x_scaled = x * math.sqrt(1.0 / float(model.embed_size))\n",
    "attn_output_weights = torch.baddbmm(\n",
    "    mask, x_scaled, x.transpose(-2, -1)\n",
    ")\n",
    "attn_output_weights = F.softmax(attn_output_weights, dim=-1)\n",
    "attn_output = torch.bmm(attn_output_weights, x)\n",
    "print(attn_output.shape)\n",
    "attn_output = (\n",
    "    attn_output.transpose(0, 1).contiguous().view(tgt_len * bsz, model.embed_size)\n",
    ")\n",
    "print(attn_output.shape)"
   ]
  },
  {
   "cell_type": "markdown",
   "metadata": {},
   "source": [
    "## Post-Attention Linear Layer"
   ]
  },
  {
   "cell_type": "code",
   "execution_count": 8,
   "metadata": {},
   "outputs": [
    {
     "name": "stdout",
     "output_type": "stream",
     "text": [
      "torch.Size([128, 512])\n",
      "torch.Size([128, 512])\n",
      "torch.Size([8, 16, 512])\n"
     ]
    }
   ],
   "source": [
    "# Apply attention - Part 2\n",
    "attn_output = model.linear_o(attn_output)\n",
    "print(attn_output.shape)\n",
    "attn_output = model.activation(attn_output)\n",
    "print(attn_output.shape)\n",
    "attn_output = attn_output.view(bsz, tgt_len, model.embed_size)\n",
    "print(attn_output.shape)"
   ]
  },
  {
   "cell_type": "markdown",
   "metadata": {},
   "source": [
    "## Create a Dataset to Test the Model"
   ]
  },
  {
   "cell_type": "code",
   "execution_count": 9,
   "metadata": {},
   "outputs": [],
   "source": [
    "# Fibonacci Numbers\n",
    "def fibonacci(x):\n",
    "    v1=0\n",
    "    v2=1\n",
    "    result = [None]*x\n",
    "    for i in range(x):\n",
    "        next_val = v1 + v2\n",
    "        result[i] = v1\n",
    "        v1 = v2\n",
    "        v2 = next_val\n",
    "    return result\n",
    "\n",
    "# Lucas numbers\n",
    "def lucas(x):\n",
    "    result = [None]*x\n",
    "    fib = fibonacci(x+2)\n",
    "    for i in range(1, x+1):\n",
    "        result[i-1] = fib[i-1] + fib[i+1]\n",
    "    return result\n",
    "\n",
    "\n",
    "# Squares\n",
    "def squares(x):\n",
    "    result = [xx**2 for xx in range(x)]\n",
    "    return result\n",
    "\n",
    "# Get Sequences\n",
    "SS = 4\n",
    "MAX = 20\n",
    "fib = fibonacci(MAX)\n",
    "luc = lucas(MAX)\n",
    "sqr = squares(10*MAX)\n",
    "\n",
    "# Generate Data\n",
    "N = 200\n",
    "X, Y = [], []\n",
    "for n in range(N):\n",
    "    seq = random.randint(0, 2)\n",
    "    idx = random.randint(0, MAX-SS-1)\n",
    "    if seq==0: X.append(fib[idx:idx+SS])\n",
    "    elif seq==1: X.append(luc[idx:idx+SS])\n",
    "    elif seq==2: X.append(sqr[idx:idx+SS])\n",
    "    Y.append([0, 1] if seq==0 else [1, 0])"
   ]
  },
  {
   "cell_type": "markdown",
   "metadata": {},
   "source": [
    "## Create A Model with Data Embedding"
   ]
  },
  {
   "cell_type": "code",
   "execution_count": 10,
   "metadata": {},
   "outputs": [],
   "source": [
    "# Multihead Attention Modulde\n",
    "class TestModel(nn.Module):\n",
    "\n",
    "    def __init__(self,\n",
    "                 max_len,\n",
    "                 max_embed,\n",
    "                 embed_size,\n",
    "                 nheads,\n",
    "                 num_classes = 2,\n",
    "                 device=\"cpu\",\n",
    "                 activation=F.relu):\n",
    "        super(TestModel, self).__init__()\n",
    "        self.embed_size = embed_size\n",
    "        self.embedding = nn.Embedding(max_embed, embed_size)\n",
    "        self.multihead = MultiheadAttention(embed_size, nheads, activation, device)\n",
    "        self.conv_out = nn.Conv1d(max_len, 1, kernel_size=3, padding=1)\n",
    "        self.linear = nn.Linear(embed_size, num_classes)\n",
    "        self.softmax = nn.Softmax()\n",
    "\n",
    "    def forward(self, q, k, v):\n",
    "        q, k, v = self.embedding(q), self.embedding(k), self.embedding(v)\n",
    "        attn_output, attn_output_weights = self.multihead(q, k, v)\n",
    "        x = self.conv_out(attn_output)\n",
    "        x = x.reshape(-1, self.embed_size) \n",
    "        x = self.linear(x)\n",
    "        x = self.softmax(x)\n",
    "        return x, attn_output_weights"
   ]
  },
  {
   "cell_type": "markdown",
   "metadata": {},
   "source": [
    "## Training Loop"
   ]
  },
  {
   "cell_type": "code",
   "execution_count": 11,
   "metadata": {},
   "outputs": [
    {
     "name": "stderr",
     "output_type": "stream",
     "text": [
      "c:\\Users\\kril\\AppData\\Local\\Programs\\Python\\Python310\\lib\\site-packages\\torch\\nn\\modules\\module.py:1518: UserWarning: Implicit dimension choice for softmax has been deprecated. Change the call to include dim=X as an argument.\n",
      "  return self._call_impl(*args, **kwargs)\n"
     ]
    },
    {
     "name": "stdout",
     "output_type": "stream",
     "text": [
      "Final Loss: 62.6523494720459\n"
     ]
    }
   ],
   "source": [
    "DEVICE = \"cuda\"\n",
    "EPOCHS = 200\n",
    "BATCH_SIZE = 1\n",
    "EMBED_SIZE = 512\n",
    "LEARNING_RATE = 4.12E-5\n",
    "test_model = TestModel(max_len=SS, \n",
    "                       max_embed=np.max(X)+1, \n",
    "                       embed_size=EMBED_SIZE, \n",
    "                       nheads=4,\n",
    "                       device=DEVICE).to(DEVICE)\n",
    "criterion = torch.nn.CrossEntropyLoss()\n",
    "optimizer = torch.optim.AdamW(test_model.parameters(), lr=LEARNING_RATE)\n",
    "train_dataset = TensorDataset(torch.Tensor(X).type(torch.LongTensor).to(DEVICE), \n",
    "                        torch.Tensor(Y).to(DEVICE))\n",
    "train_dataloader = DataLoader(train_dataset, batch_size=BATCH_SIZE)\n",
    "\n",
    "for epoch in range(EPOCHS):\n",
    "    test_model.train()\n",
    "    train_loss = 0\n",
    "    for xx, yy in train_dataloader:\n",
    "        optimizer.zero_grad()\n",
    "        out, attn_weights = test_model(xx, xx, xx)\n",
    "        loss = criterion(out, yy)\n",
    "        train_loss = train_loss + loss.item()\n",
    "        loss.backward()\n",
    "        optimizer.step()\n",
    "\n",
    "print(f\"Final Loss: {train_loss}\")"
   ]
  },
  {
   "cell_type": "code",
   "execution_count": 12,
   "metadata": {},
   "outputs": [
    {
     "data": {
      "text/plain": [
       "tensor([[136,   5],\n",
       "        [ 17,  42]])"
      ]
     },
     "execution_count": 12,
     "metadata": {},
     "output_type": "execute_result"
    }
   ],
   "source": [
    "x = torch.Tensor(X).type(torch.LongTensor).to(DEVICE)\n",
    "y = torch.Tensor(Y).to(DEVICE)\n",
    "y_hat, _ = test_model(x, x, x)\n",
    "yam = torch.argmax(y.detach().cpu(), dim=1)\n",
    "yham = torch.argmax(y_hat.detach().cpu(), dim=1)\n",
    "confmat = ConfusionMatrix(task=\"binary\", num_classes=2)\n",
    "confmat(yham, yam)"
   ]
  },
  {
   "cell_type": "code",
   "execution_count": 13,
   "metadata": {},
   "outputs": [
    {
     "data": {
      "text/plain": [
       "0.83"
      ]
     },
     "execution_count": 13,
     "metadata": {},
     "output_type": "execute_result"
    }
   ],
   "source": [
    "166/200"
   ]
  },
  {
   "cell_type": "code",
   "execution_count": 14,
   "metadata": {},
   "outputs": [
    {
     "data": {
      "text/plain": [
       "<Axes: >"
      ]
     },
     "execution_count": 14,
     "metadata": {},
     "output_type": "execute_result"
    },
    {
     "data": {
      "image/png": "[encoded data removed]",
      "text/plain": [
       "<Figure size 640x480 with 2 Axes>"
      ]
     },
     "metadata": {},
     "output_type": "display_data"
    }
   ],
   "source": [
    "sns.heatmap(torch.mean(attn_weights, dim=0).detach().cpu().numpy())"
   ]
  }
 ],
 "metadata": {
  "kernelspec": {
   "display_name": "Python 3",
   "language": "python",
   "name": "python3"
  },
  "language_info": {
   "codemirror_mode": {
    "name": "ipython",
    "version": 3
   },
   "file_extension": ".py",
   "mimetype": "text/x-python",
   "name": "python",
   "nbconvert_exporter": "python",
   "pygments_lexer": "ipython3",
   "version": "3.10.8"
  }
 },
 "nbformat": 4,
 "nbformat_minor": 2
}
